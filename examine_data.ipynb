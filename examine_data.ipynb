{
 "cells": [
  {
   "cell_type": "code",
   "execution_count": 12,
   "metadata": {
    "collapsed": false
   },
   "outputs": [],
   "source": [
    "import pandas as pd\n",
    "import utils\n",
    "import collections\n",
    "import matplotlib.pyplot as plt\n",
    "\n",
    "%matplotlib inline\n",
    "plt.rcParams['figure.figsize'] = (10.0, 8.0) # set default size of plots\n",
    "plt.rcParams['image.interpolation'] = 'nearest'\n",
    "plt.rcParams['image.cmap'] = 'gray'\n",
    "\n",
    "# for auto-reloading extenrnal modules\n",
    "# see http://stackoverflow.com/questions/1907993/autoreload-of-modules-in-ipython\n",
    "%load_ext autoreload\n",
    "%autoreload 2"
   ]
  },
  {
   "cell_type": "code",
   "execution_count": 51,
   "metadata": {
    "collapsed": false
   },
   "outputs": [],
   "source": [
    "\n",
    "x_train = collections.defaultdict(list)\n",
    "\n",
    "lines = open('data/train_dataset.txt').readlines()[1:]\n",
    "label_to_total = collections.defaultdict(int)\n",
    "for line in lines:\n",
    "    ad_id, file_path, label = line.strip().split()\n",
    "    x_train[ad_id].append(\n",
    "        {\n",
    "            'file_path': file_path,\n",
    "            'label': int(label),    \n",
    "        }\n",
    "    )\n",
    "    \n",
    "    label_to_total[label] += 1"
   ]
  },
  {
   "cell_type": "code",
   "execution_count": 24,
   "metadata": {
    "collapsed": false
   },
   "outputs": [],
   "source": [
    "labels = (\n",
    "    1521,# - shoes + high heels\n",
    "    1703,# - accessories\n",
    "    1707,# - cosmetics + perfume\n",
    "    1729,# - ??? WTF - mostly: glasses, hand bags, but also: hats, key holder, ties, wigs, belts, gloves, shirts\n",
    "    1751,# - watch\n",
    "    1755,# - shirts\n",
    "    1837,# - wedding\n",
    "    2037,# - jeans+women cloths\n",
    "    2525,# - white shoes\n",
    "    2526,# - wedding men + wedding dress ?\n",
    ")\n"
   ]
  },
  {
   "cell_type": "code",
   "execution_count": 30,
   "metadata": {
    "collapsed": false
   },
   "outputs": [],
   "source": [
    "# df = pd.DataFrame(columns=[\"num_of_items\", \"label\"])\n",
    "# df.\n",
    "df = pd.DataFrame(\n",
    "    [['a', 'b'], ['c', 'd']],\n",
    "    index=['row 1', 'row 2'],\n",
    "    columns=['col 1', 'col 2'],\n",
    ")\n"
   ]
  },
  {
   "cell_type": "markdown",
   "metadata": {},
   "source": [
    "# Total number of samples per label"
   ]
  },
  {
   "cell_type": "code",
   "execution_count": 59,
   "metadata": {
    "collapsed": false
   },
   "outputs": [
    {
     "data": {
      "text/html": [
       "<div>\n",
       "<style>\n",
       "    .dataframe thead tr:only-child th {\n",
       "        text-align: right;\n",
       "    }\n",
       "\n",
       "    .dataframe thead th {\n",
       "        text-align: left;\n",
       "    }\n",
       "\n",
       "    .dataframe tbody tr th {\n",
       "        vertical-align: top;\n",
       "    }\n",
       "</style>\n",
       "<table border=\"1\" class=\"dataframe\">\n",
       "  <thead>\n",
       "    <tr style=\"text-align: right;\">\n",
       "      <th></th>\n",
       "      <th>total</th>\n",
       "    </tr>\n",
       "  </thead>\n",
       "  <tbody>\n",
       "    <tr>\n",
       "      <th>1521</th>\n",
       "      <td>1958</td>\n",
       "    </tr>\n",
       "    <tr>\n",
       "      <th>1703</th>\n",
       "      <td>728</td>\n",
       "    </tr>\n",
       "    <tr>\n",
       "      <th>1707</th>\n",
       "      <td>519</td>\n",
       "    </tr>\n",
       "    <tr>\n",
       "      <th>1729</th>\n",
       "      <td>1504</td>\n",
       "    </tr>\n",
       "    <tr>\n",
       "      <th>1751</th>\n",
       "      <td>759</td>\n",
       "    </tr>\n",
       "    <tr>\n",
       "      <th>1755</th>\n",
       "      <td>5158</td>\n",
       "    </tr>\n",
       "    <tr>\n",
       "      <th>1837</th>\n",
       "      <td>263</td>\n",
       "    </tr>\n",
       "    <tr>\n",
       "      <th>2037</th>\n",
       "      <td>176</td>\n",
       "    </tr>\n",
       "    <tr>\n",
       "      <th>2525</th>\n",
       "      <td>158</td>\n",
       "    </tr>\n",
       "    <tr>\n",
       "      <th>2526</th>\n",
       "      <td>61</td>\n",
       "    </tr>\n",
       "  </tbody>\n",
       "</table>\n",
       "</div>"
      ],
      "text/plain": [
       "      total\n",
       "1521   1958\n",
       "1703    728\n",
       "1707    519\n",
       "1729   1504\n",
       "1751    759\n",
       "1755   5158\n",
       "1837    263\n",
       "2037    176\n",
       "2525    158\n",
       "2526     61"
      ]
     },
     "execution_count": 59,
     "metadata": {},
     "output_type": "execute_result"
    }
   ],
   "source": [
    "df = pd.DataFrame(\n",
    "    data=[label_to_total[label] for label in sorted(label_to_total)],\n",
    "    index=sorted(label_to_total),\n",
    "    columns=[ 'total'],\n",
    ")\n",
    "df\n"
   ]
  },
  {
   "cell_type": "code",
   "execution_count": null,
   "metadata": {
    "collapsed": true
   },
   "outputs": [],
   "source": []
  },
  {
   "cell_type": "markdown",
   "metadata": {},
   "source": [
    "# x number of images per sample to label"
   ]
  },
  {
   "cell_type": "code",
   "execution_count": 48,
   "metadata": {
    "collapsed": false
   },
   "outputs": [
    {
     "data": {
      "text/html": [
       "<div>\n",
       "<style>\n",
       "    .dataframe thead tr:only-child th {\n",
       "        text-align: right;\n",
       "    }\n",
       "\n",
       "    .dataframe thead th {\n",
       "        text-align: left;\n",
       "    }\n",
       "\n",
       "    .dataframe tbody tr th {\n",
       "        vertical-align: top;\n",
       "    }\n",
       "</style>\n",
       "<table border=\"1\" class=\"dataframe\">\n",
       "  <thead>\n",
       "    <tr style=\"text-align: right;\">\n",
       "      <th></th>\n",
       "      <th>1521</th>\n",
       "      <th>1703</th>\n",
       "      <th>1707</th>\n",
       "      <th>1729</th>\n",
       "      <th>1751</th>\n",
       "      <th>1755</th>\n",
       "      <th>1837</th>\n",
       "      <th>2037</th>\n",
       "      <th>2525</th>\n",
       "      <th>2526</th>\n",
       "    </tr>\n",
       "  </thead>\n",
       "  <tbody>\n",
       "    <tr>\n",
       "      <th>1</th>\n",
       "      <td>81</td>\n",
       "      <td>118</td>\n",
       "      <td>135</td>\n",
       "      <td>58</td>\n",
       "      <td>41</td>\n",
       "      <td>306</td>\n",
       "      <td>3</td>\n",
       "      <td>12</td>\n",
       "      <td>5</td>\n",
       "      <td>3</td>\n",
       "    </tr>\n",
       "    <tr>\n",
       "      <th>2</th>\n",
       "      <td>75</td>\n",
       "      <td>55</td>\n",
       "      <td>58</td>\n",
       "      <td>79</td>\n",
       "      <td>36</td>\n",
       "      <td>357</td>\n",
       "      <td>6</td>\n",
       "      <td>13</td>\n",
       "      <td>6</td>\n",
       "      <td>2</td>\n",
       "    </tr>\n",
       "    <tr>\n",
       "      <th>3</th>\n",
       "      <td>102</td>\n",
       "      <td>48</td>\n",
       "      <td>25</td>\n",
       "      <td>101</td>\n",
       "      <td>30</td>\n",
       "      <td>288</td>\n",
       "      <td>6</td>\n",
       "      <td>8</td>\n",
       "      <td>6</td>\n",
       "      <td>4</td>\n",
       "    </tr>\n",
       "    <tr>\n",
       "      <th>4</th>\n",
       "      <td>96</td>\n",
       "      <td>18</td>\n",
       "      <td>13</td>\n",
       "      <td>72</td>\n",
       "      <td>29</td>\n",
       "      <td>177</td>\n",
       "      <td>6</td>\n",
       "      <td>5</td>\n",
       "      <td>14</td>\n",
       "      <td>0</td>\n",
       "    </tr>\n",
       "    <tr>\n",
       "      <th>5</th>\n",
       "      <td>49</td>\n",
       "      <td>10</td>\n",
       "      <td>9</td>\n",
       "      <td>51</td>\n",
       "      <td>17</td>\n",
       "      <td>129</td>\n",
       "      <td>11</td>\n",
       "      <td>7</td>\n",
       "      <td>8</td>\n",
       "      <td>4</td>\n",
       "    </tr>\n",
       "    <tr>\n",
       "      <th>6</th>\n",
       "      <td>26</td>\n",
       "      <td>10</td>\n",
       "      <td>7</td>\n",
       "      <td>21</td>\n",
       "      <td>17</td>\n",
       "      <td>109</td>\n",
       "      <td>5</td>\n",
       "      <td>1</td>\n",
       "      <td>2</td>\n",
       "      <td>1</td>\n",
       "    </tr>\n",
       "    <tr>\n",
       "      <th>7</th>\n",
       "      <td>20</td>\n",
       "      <td>2</td>\n",
       "      <td>2</td>\n",
       "      <td>20</td>\n",
       "      <td>11</td>\n",
       "      <td>53</td>\n",
       "      <td>7</td>\n",
       "      <td>3</td>\n",
       "      <td>1</td>\n",
       "      <td>0</td>\n",
       "    </tr>\n",
       "    <tr>\n",
       "      <th>8</th>\n",
       "      <td>62</td>\n",
       "      <td>20</td>\n",
       "      <td>5</td>\n",
       "      <td>22</td>\n",
       "      <td>22</td>\n",
       "      <td>112</td>\n",
       "      <td>9</td>\n",
       "      <td>4</td>\n",
       "      <td>1</td>\n",
       "      <td>2</td>\n",
       "    </tr>\n",
       "  </tbody>\n",
       "</table>\n",
       "</div>"
      ],
      "text/plain": [
       "   1521  1703  1707  1729  1751  1755  1837  2037  2525  2526\n",
       "1    81   118   135    58    41   306     3    12     5     3\n",
       "2    75    55    58    79    36   357     6    13     6     2\n",
       "3   102    48    25   101    30   288     6     8     6     4\n",
       "4    96    18    13    72    29   177     6     5    14     0\n",
       "5    49    10     9    51    17   129    11     7     8     4\n",
       "6    26    10     7    21    17   109     5     1     2     1\n",
       "7    20     2     2    20    11    53     7     3     1     0\n",
       "8    62    20     5    22    22   112     9     4     1     2"
      ]
     },
     "execution_count": 48,
     "metadata": {},
     "output_type": "execute_result"
    }
   ],
   "source": [
    "num_of_items_list = (1,2,3,4,5,6,7,8)\n",
    "table = np.zeros(\n",
    "    (\n",
    "        len(num_of_items_list),\n",
    "        len(labels),\n",
    "    )\n",
    ").astype('int32')\n",
    "for i, num_of_items in enumerate(num_of_items_list):\n",
    "    label_to_count = collections.defaultdict(int)\n",
    "    for ad_id, items in x_train.items():\n",
    "        if len(items) == num_of_items:\n",
    "            label = items[0]['label']\n",
    "            label_to_count[label] += 1\n",
    "    for j, label in enumerate(sorted(label_to_count)):\n",
    "        count = label_to_count[label]\n",
    "        table[i,j] = count\n",
    "\n",
    "pd.DataFrame(data=table, columns=labels, index=num_of_items_list)"
   ]
  },
  {
   "cell_type": "code",
   "execution_count": null,
   "metadata": {
    "collapsed": false
   },
   "outputs": [],
   "source": []
  },
  {
   "cell_type": "code",
   "execution_count": null,
   "metadata": {
    "collapsed": true
   },
   "outputs": [],
   "source": [
    "# examples_per_class = 8\n",
    "# classes = ['']\n",
    "# for cls, cls_name in enumerate(classes):\n",
    "#     idxs = np.where((y_test != cls) & (y_test_pred == cls))[0]\n",
    "#     idxs = np.random.choice(idxs, examples_per_class, replace=False)\n",
    "#     for i, idx in enumerate(idxs):\n",
    "#         plt.subplot(examples_per_class, len(classes), i * len(classes) + cls + 1)\n",
    "#         plt.imshow(X_test[idx].astype('uint8'))\n",
    "#         plt.axis('off')\n",
    "#         if i == 0:\n",
    "#             plt.title(cls_name)\n",
    "# plt.show()"
   ]
  }
 ],
 "metadata": {
  "kernelspec": {
   "display_name": "Python 2",
   "language": "python",
   "name": "python2"
  },
  "language_info": {
   "codemirror_mode": {
    "name": "ipython",
    "version": 2
   },
   "file_extension": ".py",
   "mimetype": "text/x-python",
   "name": "python",
   "nbconvert_exporter": "python",
   "pygments_lexer": "ipython2",
   "version": "2.7.12"
  }
 },
 "nbformat": 4,
 "nbformat_minor": 2
}
