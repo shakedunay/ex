{
 "cells": [
  {
   "cell_type": "code",
   "execution_count": null,
   "metadata": {
    "collapsed": true
   },
   "outputs": [],
   "source": [
    "#  217  ls 1521/* | head -n 1200 | xargs mv -t train/1521\n",
    "#   218  mkdir train/1703\n",
    "#   219  ls 1703/* | head -n 1200 | xargs mv -t train/1703\n",
    "#   220  mkdir train/1707\n",
    "#   221  ls 1707/* | head -n 1200 | xargs mv -t train/1707\n",
    "#   222  ls\n",
    "#   223  mkdir train/1729\n",
    "#   224  ls 1729/* | head -n 1200 | xargs mv -t train/1729\n",
    "#   225  ls 1729/*\n",
    "#   226  ls\n",
    "#   227  mkdir train/1751\n",
    "#   228  ls 1751/* | head -n 1200 | xargs mv -t train/1751\n",
    "#   229  mkdir train/1755\n",
    "#   230  ls 1755/* | head -n 1200 | xargs mv -t train/1755\n",
    "#   231  mkdir train/1837\n",
    "#   232  ls 1837/* | head -n 1200 | xargs mv -t train/1837\n",
    "#   233  mkdir train/2037\n",
    "#   234  ls 2037/* | head -n 1200 | xargs mv -t train/2037\n",
    "#   235  mkdir train/2525\n",
    "#   236  ls 2525/* | head -n 1200 | xargs mv -t train/2525\n",
    "#   237  mkdir train/2526\n",
    "#   238  ls train/2526\n",
    "#   239  ls 2526/* | head -n 1200 | xargs mv -t train/2526\n"
   ]
  }
 ],
 "metadata": {
  "kernelspec": {
   "display_name": "Python 3",
   "language": "python",
   "name": "python3"
  },
  "language_info": {
   "codemirror_mode": {
    "name": "ipython",
    "version": 3
   },
   "file_extension": ".py",
   "mimetype": "text/x-python",
   "name": "python",
   "nbconvert_exporter": "python",
   "pygments_lexer": "ipython3",
   "version": "3.5.2"
  }
 },
 "nbformat": 4,
 "nbformat_minor": 2
}
