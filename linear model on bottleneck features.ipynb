{
 "cells": [
  {
   "cell_type": "code",
   "execution_count": 4,
   "metadata": {
    "collapsed": false
   },
   "outputs": [
    {
     "name": "stdout",
     "output_type": "stream",
     "text": [
      "The autoreload extension is already loaded. To reload it, use:\n",
      "  %reload_ext autoreload\n"
     ]
    }
   ],
   "source": [
    "import os\n",
    "import numpy as np\n",
    "# import sklearn\n",
    "from sklearn.model_selection import train_test_split\n",
    "import sklearn.linear_model\n",
    "%load_ext autoreload\n",
    "%autoreload 2\n",
    "from utils import *"
   ]
  },
  {
   "cell_type": "markdown",
   "metadata": {},
   "source": [
    "# load data to numpy"
   ]
  },
  {
   "cell_type": "code",
   "execution_count": null,
   "metadata": {
    "collapsed": false
   },
   "outputs": [],
   "source": [
    "labels = (\n",
    "    1521,\n",
    "    1703,\n",
    "    1707,\n",
    "    1729,\n",
    "    1751,\n",
    "    1755,\n",
    "    1837,\n",
    "    2037,\n",
    "    2525,\n",
    "    2526,\n",
    ")\n",
    "\n",
    "def get_X_y_path_id(bottleneck_basepath):\n",
    "    X = []\n",
    "    y = []\n",
    "    orig_path = []\n",
    "    orig_id = []\n",
    "    for label in labels:\n",
    "        files_path = get_files_in_dir(os.path.join(bottleneck_basepath, str(label)))\n",
    "        for file_path in files_path:\n",
    "            bottleneck_string = open(file_path).read()\n",
    "            bottleneck_values = [float(s) for s in bottleneck_string.split(',')]    \n",
    "            X.append(bottleneck_values)\n",
    "            y.append(label)\n",
    "            orig_path.append(file_path)\n",
    "            \n",
    "            \n",
    "            orig_id.append(\n",
    "                os.path.basename(file_path).split('.')[1]\n",
    "            )\n",
    "\n",
    "    X = np.array(X)\n",
    "    y = np.array(y)\n",
    "    \n",
    "    return X, y, orig_path, orig_id"
   ]
  },
  {
   "cell_type": "code",
   "execution_count": null,
   "metadata": {
    "collapsed": false
   },
   "outputs": [],
   "source": [
    "X, y, orig_path, orig_id = get_X_y_path_id('bottleneck/inception_fc_output')\n",
    "X_train, X_test, y_train, y_test = train_test_split(\n",
    "     X, y, test_size=0.2,\n",
    "    random_state=42,\n",
    ")\n",
    "model = sklearn.linear_model.SGDClassifier( )\n",
    "model.fit(X_train, y_train)\n",
    "print(model.score(X_train, y_train))\n",
    "print(model.score(X_test, y_test))"
   ]
  },
  {
   "cell_type": "code",
   "execution_count": null,
   "metadata": {
    "collapsed": false
   },
   "outputs": [],
   "source": [
    "X, y, orig_path, orig_id = get_X_y_path_id('bottleneck/join_images_bottleneck')\n",
    "X_train, X_test, y_train, y_test = train_test_split(\n",
    "     X, y, test_size=0.2,\n",
    "    random_state=42,\n",
    ")\n",
    "model = sklearn.linear_model.SGDClassifier( )\n",
    "model.fit(X_train, y_train)\n",
    "print(model.score(X_train, y_train))\n",
    "print(model.score(X_test, y_test))"
   ]
  },
  {
   "cell_type": "code",
   "execution_count": null,
   "metadata": {
    "collapsed": false
   },
   "outputs": [],
   "source": [
    "from sklearn import svm\n",
    "model = svm.SVC(kernel='linear', C=1)\n",
    "model.fit(X_train, y_train)\n",
    "print(model.score(X_train, y_train))\n",
    "print(model.score(X_test, y_test))"
   ]
  },
  {
   "cell_type": "code",
   "execution_count": null,
   "metadata": {
    "collapsed": false
   },
   "outputs": [],
   "source": [
    "# from sklearn.model_selection import cross_val_score\n",
    "\n",
    "y_predit = model.predict(X_test)\n",
    "\n",
    "# y_predit\n",
    "\n",
    "correct = np.where(y_predit!=y_test)[0]"
   ]
  },
  {
   "cell_type": "code",
   "execution_count": null,
   "metadata": {
    "collapsed": false
   },
   "outputs": [],
   "source": [
    "correct\n",
    "\n",
    "run_bottleneck_on_image"
   ]
  },
  {
   "cell_type": "code",
   "execution_count": null,
   "metadata": {
    "collapsed": true
   },
   "outputs": [],
   "source": []
  }
 ],
 "metadata": {
  "kernelspec": {
   "display_name": "Python 3",
   "language": "python",
   "name": "python3"
  },
  "language_info": {
   "codemirror_mode": {
    "name": "ipython",
    "version": 3
   },
   "file_extension": ".py",
   "mimetype": "text/x-python",
   "name": "python",
   "nbconvert_exporter": "python",
   "pygments_lexer": "ipython3",
   "version": "3.5.2"
  }
 },
 "nbformat": 4,
 "nbformat_minor": 2
}
