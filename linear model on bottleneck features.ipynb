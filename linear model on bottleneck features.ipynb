{
 "cells": [
  {
   "cell_type": "code",
   "execution_count": 29,
   "metadata": {
    "collapsed": false
   },
   "outputs": [
    {
     "name": "stdout",
     "output_type": "stream",
     "text": [
      "The autoreload extension is already loaded. To reload it, use:\n",
      "  %reload_ext autoreload\n"
     ]
    },
    {
     "name": "stderr",
     "output_type": "stream",
     "text": [
      "/usr/local/lib/python3.5/dist-packages/sklearn/cross_validation.py:44: DeprecationWarning: This module was deprecated in version 0.18 in favor of the model_selection module into which all the refactored classes and functions are moved. Also note that the interface of the new CV iterators are different from that of this module. This module will be removed in 0.20.\n",
      "  \"This module will be removed in 0.20.\", DeprecationWarning)\n"
     ]
    }
   ],
   "source": [
    "import os\n",
    "import numpy as np\n",
    "# import sklearn\n",
    "from sklearn.model_selection import train_test_split\n",
    "from sklearn.model_selection import cross_val_score\n",
    "import sklearn.linear_model\n",
    "import xgboost\n",
    "import sklearn.svm\n",
    "import sklearn.ensemble\n",
    "%load_ext autoreload\n",
    "%autoreload 2\n",
    "from utils import *"
   ]
  },
  {
   "cell_type": "markdown",
   "metadata": {},
   "source": [
    "# load data to numpy"
   ]
  },
  {
   "cell_type": "code",
   "execution_count": 2,
   "metadata": {
    "collapsed": false
   },
   "outputs": [],
   "source": [
    "labels = (\n",
    "    1521,\n",
    "    1703,\n",
    "    1707,\n",
    "    1729,\n",
    "    1751,\n",
    "    1755,\n",
    "    1837,\n",
    "    2037,\n",
    "    2525,\n",
    "    2526,\n",
    ")\n",
    "\n",
    "def get_X_y_path_id(bottleneck_basepath):\n",
    "    X = []\n",
    "    y = []\n",
    "    orig_path = []\n",
    "    orig_id = []\n",
    "    for label in labels:\n",
    "        files_path = get_files_in_dir(os.path.join(bottleneck_basepath, str(label)))\n",
    "        for file_path in files_path:\n",
    "            bottleneck_string = open(file_path).read()\n",
    "            bottleneck_values = [float(s) for s in bottleneck_string.split(',')]    \n",
    "            X.append(bottleneck_values)\n",
    "            y.append(label)\n",
    "            orig_path.append(file_path)\n",
    "            \n",
    "            \n",
    "            orig_id.append(\n",
    "                os.path.basename(file_path).split('.')[1]\n",
    "            )\n",
    "\n",
    "    X = np.array(X)\n",
    "    y = np.array(y)\n",
    "    return X, y, orig_path, orig_id"
   ]
  },
  {
   "cell_type": "code",
   "execution_count": 3,
   "metadata": {
    "collapsed": false
   },
   "outputs": [
    {
     "name": "stdout",
     "output_type": "stream",
     "text": [
      "model: SGD\ttrain_score:\t0.8367520330137153\ttest_score:0.7747572815533981\n",
      "model: SGD\ttrain_score:\t0.9991503823279524\ttest_score:0.8616504854368932\n"
     ]
    }
   ],
   "source": [
    "X, y, orig_path, orig_id = get_X_y_path_id('data/bottleneck/seperated_images_inception_fc')\n",
    "X_train, X_test, y_train, y_test = train_test_split(\n",
    "     X, y, test_size=0.2,\n",
    "    random_state=42,\n",
    ")\n",
    "model = sklearn.linear_model.SGDClassifier( )\n",
    "model.fit(X_train, y_train)\n",
    "\n",
    "\n",
    "train_score = model.score(X_train, y_train)\n",
    "test_score = model.score(X_test, y_test)\n",
    "\n",
    "print('model: SGD\\ttrain_score:\\t{}\\ttest_score:{}'.format(train_score,test_score))\n",
    "\n",
    "model = sklearn.svm.SVC(kernel='linear', C=1)\n",
    "model.fit(X_train, y_train)\n",
    "\n",
    "\n",
    "train_score = model.score(X_train, y_train)\n",
    "test_score = model.score(X_test, y_test)\n",
    "\n",
    "print('model: SVC\\ttrain_score:\\t{}\\ttest_score:{}'.format(train_score,test_score))"
   ]
  },
  {
   "cell_type": "code",
   "execution_count": 6,
   "metadata": {
    "collapsed": false
   },
   "outputs": [
    {
     "name": "stdout",
     "output_type": "stream",
     "text": [
      "model: SGD\ttrain_score:\t0.9543599257884973\ttest_score:0.8635014836795252\n",
      "model: SVC\ttrain_score:\t1.0\ttest_score:0.8798219584569733\n"
     ]
    }
   ],
   "source": [
    "X, y, orig_path, orig_id = get_X_y_path_id('data/bottleneck/joined_images_inception_fc')\n",
    "X_train, X_test, y_train, y_test = train_test_split(\n",
    "     X, y, test_size=0.2,\n",
    "    random_state=42,\n",
    ")\n",
    "model = sklearn.linear_model.SGDClassifier( )\n",
    "model.fit(X_train, y_train)\n",
    "\n",
    "train_score = model.score(X_train, y_train)\n",
    "test_score = model.score(X_test, y_test)\n",
    "print('model: SGD\\ttrain_score:\\t{}\\ttest_score:{}'.format(train_score,test_score))\n",
    "\n",
    "model = sklearn.svm.SVC(kernel='linear', C=1)\n",
    "model.fit(X_train, y_train)\n",
    "\n",
    "train_score = model.score(X_train, y_train)\n",
    "test_score = model.score(X_test, y_test)\n",
    "print('model: SVC\\ttrain_score:\\t{}\\ttest_score:{}'.format(train_score,test_score))"
   ]
  },
  {
   "cell_type": "code",
   "execution_count": 7,
   "metadata": {
    "collapsed": false
   },
   "outputs": [
    {
     "name": "stdout",
     "output_type": "stream",
     "text": [
      "model: SGD\ttrain_score:\t0.8304267161410018\ttest_score:0.7640949554896143\n",
      "model: SVC\ttrain_score:\t0.7769944341372913\ttest_score:0.7329376854599406\n"
     ]
    }
   ],
   "source": [
    "X, y, orig_path, orig_id = get_X_y_path_id('data/bottleneck/joined_images_inception_fc_my_extractor')\n",
    "X_train, X_test, y_train, y_test = train_test_split(\n",
    "     X, y, test_size=0.2,\n",
    "    random_state=42,\n",
    ")\n",
    "model = sklearn.linear_model.SGDClassifier( )\n",
    "model.fit(X_train, y_train)\n",
    "\n",
    "train_score = model.score(X_train, y_train)\n",
    "test_score = model.score(X_test, y_test)\n",
    "print('model: SGD\\ttrain_score:\\t{}\\ttest_score:{}'.format(train_score,test_score))\n",
    "\n",
    "model = sklearn.svm.SVC(kernel='linear', C=1)\n",
    "model.fit(X_train, y_train)\n",
    "\n",
    "train_score = model.score(X_train, y_train)\n",
    "test_score = model.score(X_test, y_test)\n",
    "print('model: SVC\\ttrain_score:\\t{}\\ttest_score:{}'.format(train_score,test_score))"
   ]
  },
  {
   "cell_type": "code",
   "execution_count": 8,
   "metadata": {
    "collapsed": false
   },
   "outputs": [
    {
     "name": "stdout",
     "output_type": "stream",
     "text": [
      "model: SGD\ttrain_score:\t0.9981447124304267\ttest_score:0.7997032640949555\n",
      "model: SVC\ttrain_score:\t1.0\ttest_score:0.8293768545994066\n"
     ]
    }
   ],
   "source": [
    "X, y, orig_path, orig_id = get_X_y_path_id('data/bottleneck/joined_images_vgg16_last_conv')\n",
    "X_train, X_test, y_train, y_test = train_test_split(\n",
    "     X, y, test_size=0.2,\n",
    "    random_state=42,\n",
    ")\n",
    "model = sklearn.linear_model.SGDClassifier( )\n",
    "model.fit(X_train, y_train)\n",
    "\n",
    "train_score = model.score(X_train, y_train)\n",
    "test_score = model.score(X_test, y_test)\n",
    "print('model: SGD\\ttrain_score:\\t{}\\ttest_score:{}'.format(train_score,test_score))\n",
    "\n",
    "model = sklearn.svm.SVC(kernel='linear', C=1)\n",
    "model.fit(X_train, y_train)\n",
    "\n",
    "train_score = model.score(X_train, y_train)\n",
    "test_score = model.score(X_test, y_test)\n",
    "print('model: SVC\\ttrain_score:\\t{}\\ttest_score:{}'.format(train_score,test_score))"
   ]
  },
  {
   "cell_type": "markdown",
   "metadata": {
    "collapsed": false
   },
   "source": [
    "# on our best one keep working"
   ]
  },
  {
   "cell_type": "code",
   "execution_count": 20,
   "metadata": {
    "collapsed": false
   },
   "outputs": [
    {
     "name": "stdout",
     "output_type": "stream",
     "text": [
      "model: SGD\ttrain_score:\t0.9183673469387755\ttest_score:0.8011869436201781\n",
      "model: SVC\ttrain_score:\t1.0\ttest_score:0.8694362017804155\n"
     ]
    }
   ],
   "source": [
    "X, y, orig_path, orig_id = get_X_y_path_id('data/bottleneck/joined_images_inception_fc')\n",
    "X_train, X_test, y_train, y_test = train_test_split(\n",
    "     X, y, test_size=0.2,\n",
    "    random_state=42,\n",
    "    stratify=y,\n",
    ")\n",
    "model = sklearn.linear_model.SGDClassifier( )\n",
    "model.fit(X_train, y_train)\n",
    "\n",
    "train_score = model.score(X_train, y_train)\n",
    "test_score = model.score(X_test, y_test)\n",
    "print('model: SGD\\ttrain_score:\\t{}\\ttest_score:{}'.format(train_score,test_score))\n",
    "\n",
    "model = sklearn.svm.SVC(kernel='linear', C=1)\n",
    "model.fit(X_train, y_train)\n",
    "\n",
    "train_score = model.score(X_train, y_train)\n",
    "test_score = model.score(X_test, y_test)\n",
    "print('model: SVC\\ttrain_score:\\t{}\\ttest_score:{}'.format(train_score,test_score))"
   ]
  },
  {
   "cell_type": "code",
   "execution_count": 26,
   "metadata": {
    "collapsed": false
   },
   "outputs": [
    {
     "name": "stdout",
     "output_type": "stream",
     "text": [
      "[ 0.86303387  0.8637037   0.86962963  0.87481371  0.89387145]\n",
      "0.873010473496\n"
     ]
    }
   ],
   "source": [
    "X, y, orig_path, orig_id = get_X_y_path_id('data/bottleneck/joined_images_inception_fc')\n",
    "model = sklearn.svm.SVC(kernel='linear', C=1)\n",
    "scores = cross_val_score(model, X, y, cv=5)\n",
    "\n",
    "print(scores)\n",
    "print(scores.mean())"
   ]
  },
  {
   "cell_type": "code",
   "execution_count": 28,
   "metadata": {
    "collapsed": false
   },
   "outputs": [
    {
     "name": "stdout",
     "output_type": "stream",
     "text": [
      "[ 0.7820324   0.7762963   0.78962963  0.80327869  0.78624813]\n",
      "0.787497029316\n"
     ]
    }
   ],
   "source": [
    "model = sklearn.ensemble.RandomForestClassifier()\n",
    "scores = cross_val_score(model, X, y, cv=5)\n",
    "\n",
    "print(scores)\n",
    "print(scores.mean())"
   ]
  },
  {
   "cell_type": "code",
   "execution_count": 30,
   "metadata": {
    "collapsed": false
   },
   "outputs": [
    {
     "name": "stdout",
     "output_type": "stream",
     "text": [
      "[ 0.86156112  0.86074074  0.86518519  0.87928465  0.87892377]\n",
      "0.869139092362\n"
     ]
    }
   ],
   "source": [
    "model = xgboost.XGBClassifier()\n",
    "scores = cross_val_score(model, X, y, cv=5)\n",
    "\n",
    "print(scores)\n",
    "print(scores.mean())"
   ]
  },
  {
   "cell_type": "code",
   "execution_count": 33,
   "metadata": {
    "collapsed": false
   },
   "outputs": [
    {
     "name": "stdout",
     "output_type": "stream",
     "text": [
      "[ 0.82621502  0.81925926  0.85333333  0.84500745  0.84005979]\n",
      "0.836774971396\n"
     ]
    }
   ],
   "source": [
    "X_1, y_1, orig_path, orig_id = get_X_y_path_id('data/bottleneck/joined_images_inception_fc')\n",
    "X_2, y_2, orig_path, orig_id = get_X_y_path_id('data/bottleneck/joined_images_vgg16_last_conv')\n",
    "y = y_1\n",
    "X = np.zeros((X_1.shape[0], X_1.shape[1] + X_2.shape[1]))\n",
    "X[:,:X_1.shape[1]] = X_1\n",
    "X[:,X_1.shape[1]:] = X_2\n",
    "\n",
    "model = sklearn.svm.SVC(kernel='linear', C=1)\n",
    "scores = cross_val_score(model, X, y, cv=5)\n",
    "\n",
    "print(scores)\n",
    "print(scores.mean())"
   ]
  },
  {
   "cell_type": "markdown",
   "metadata": {},
   "source": [
    "# Wrong - test leaks to train"
   ]
  },
  {
   "cell_type": "code",
   "execution_count": 34,
   "metadata": {
    "collapsed": false
   },
   "outputs": [
    {
     "name": "stdout",
     "output_type": "stream",
     "text": [
      "[ 0.97741273  0.97669637  0.97634556  0.97771683  0.978738  ]\n",
      "0.977381897701\n"
     ]
    }
   ],
   "source": [
    "X, y, orig_path, orig_id = get_X_y_path_id('data/bottleneck/oversampling_full')\n",
    "model = sklearn.svm.SVC(kernel='linear', C=1)\n",
    "scores = cross_val_score(model, X, y, cv=5)\n",
    "\n",
    "print(scores)\n",
    "print(scores.mean())"
   ]
  },
  {
   "cell_type": "markdown",
   "metadata": {},
   "source": [
    "# Fair split"
   ]
  },
  {
   "cell_type": "code",
   "execution_count": 41,
   "metadata": {
    "collapsed": false
   },
   "outputs": [
    {
     "name": "stdout",
     "output_type": "stream",
     "text": [
      "[ 0.88512518  0.86814815  0.88        0.88971684  0.86846039]\n",
      "0.878290112284\n"
     ]
    }
   ],
   "source": [
    "from sklearn.model_selection import StratifiedKFold\n",
    "skf = StratifiedKFold(\n",
    "    n_splits=5,\n",
    "    shuffle=True,\n",
    ")\n",
    "\n",
    "X, y, orig_path, orig_id = get_X_y_path_id('data/bottleneck/joined_images_inception_fc')\n",
    "model = sklearn.svm.SVC(kernel='linear', C=1)\n",
    "scores = cross_val_score(model, X, y, cv=skf)\n",
    "\n",
    "print(scores)\n",
    "print(scores.mean())\n"
   ]
  },
  {
   "cell_type": "code",
   "execution_count": 49,
   "metadata": {
    "collapsed": false
   },
   "outputs": [
    {
     "name": "stdout",
     "output_type": "stream",
     "text": [
      "(2690, 2048)\n",
      "(679, 2048)\n"
     ]
    }
   ],
   "source": [
    "test_skf = StratifiedKFold(\n",
    "    n_splits=5,\n",
    "    shuffle=True,\n",
    ")\n",
    "\n",
    "train_index, test_index = next(test_skf.split(X,y))\n",
    "\n",
    "X_train, X_test = X[train_index], X[test_index]\n",
    "y_train, y_test = y[train_index], y[test_index]\n",
    "\n",
    "\n",
    "print(X_train.shape)\n",
    "print(X_test.shape)"
   ]
  },
  {
   "cell_type": "code",
   "execution_count": null,
   "metadata": {
    "collapsed": true
   },
   "outputs": [],
   "source": [
    "images_dir = 'data/per_label_joined'\n",
    "\n",
    "file_path_list = []\n",
    "label = []\n",
    "for file_path in get_files_in_dir(images_dir):\n",
    "    label = os.path.basename(os.path.dirname(file_path))\n",
    "    \n",
    "    file_path_list.append(file_path)\n",
    "    "
   ]
  }
 ],
 "metadata": {
  "kernelspec": {
   "display_name": "Python 3",
   "language": "python",
   "name": "python3"
  },
  "language_info": {
   "codemirror_mode": {
    "name": "ipython",
    "version": 3
   },
   "file_extension": ".py",
   "mimetype": "text/x-python",
   "name": "python",
   "nbconvert_exporter": "python",
   "pygments_lexer": "ipython3",
   "version": "3.5.2"
  }
 },
 "nbformat": 4,
 "nbformat_minor": 2
}
