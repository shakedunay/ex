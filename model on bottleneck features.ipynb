{
 "cells": [
  {
   "cell_type": "code",
   "execution_count": 2,
   "metadata": {
    "collapsed": false
   },
   "outputs": [
    {
     "name": "stderr",
     "output_type": "stream",
     "text": [
      "/usr/local/lib/python3.5/dist-packages/sklearn/cross_validation.py:44: DeprecationWarning: This module was deprecated in version 0.18 in favor of the model_selection module into which all the refactored classes and functions are moved. Also note that the interface of the new CV iterators are different from that of this module. This module will be removed in 0.20.\n",
      "  \"This module will be removed in 0.20.\", DeprecationWarning)\n",
      "Using TensorFlow backend.\n"
     ]
    }
   ],
   "source": [
    "import os\n",
    "import numpy as np\n",
    "# import sklearn\n",
    "from sklearn.model_selection import train_test_split\n",
    "from sklearn.model_selection import cross_val_score\n",
    "import sklearn.linear_model\n",
    "import xgboost\n",
    "import sklearn.svm\n",
    "import sklearn.ensemble\n",
    "%load_ext autoreload\n",
    "%autoreload 2\n",
    "from utils import *"
   ]
  },
  {
   "cell_type": "markdown",
   "metadata": {},
   "source": [
    "# load data to numpy"
   ]
  },
  {
   "cell_type": "code",
   "execution_count": 3,
   "metadata": {
    "collapsed": false
   },
   "outputs": [],
   "source": [
    "labels = (\n",
    "    1521,\n",
    "    1703,\n",
    "    1707,\n",
    "    1729,\n",
    "    1751,\n",
    "    1755,\n",
    "    1837,\n",
    "    2037,\n",
    "    2525,\n",
    "    2526,\n",
    ")\n",
    "\n",
    "def get_X_y_path_id(bottleneck_basepath):\n",
    "    X = []\n",
    "    y = []\n",
    "    orig_path = []\n",
    "    orig_id = []\n",
    "    for label in labels:\n",
    "        files_path = get_files_in_dir(os.path.join(bottleneck_basepath, str(label)))\n",
    "        for file_path in files_path:\n",
    "            bottleneck_string = open(file_path).read()\n",
    "            bottleneck_values = [float(s) for s in bottleneck_string.split(',')]    \n",
    "            X.append(bottleneck_values)\n",
    "            y.append(label)\n",
    "            orig_path.append(file_path)\n",
    "            \n",
    "            \n",
    "            orig_id.append(\n",
    "                os.path.basename(file_path).split('.')[0]\n",
    "            )\n",
    "\n",
    "    X = np.array(X)\n",
    "    y = np.array(y)\n",
    "    return X, y, orig_path, orig_id\n",
    "\n",
    "\n",
    "def get_X_path_id(unlabled_bottleneck_basepath):\n",
    "    X = []\n",
    "    orig_path = []\n",
    "    orig_id = []\n",
    "    files_path = get_files_in_dir(unlabled_bottleneck_basepath)\n",
    "    for file_path in files_path:\n",
    "        bottleneck_string = open(file_path).read()\n",
    "        bottleneck_values = [float(s) for s in bottleneck_string.split(',')]    \n",
    "        X.append(bottleneck_values)\n",
    "        orig_path.append(file_path)\n",
    "\n",
    "        current_orig_id = os.path.basename(file_path).split('.')[0]\n",
    "        \n",
    "        orig_id.append(current_orig_id\n",
    "            \n",
    "        )\n",
    "\n",
    "    X = np.array(X)\n",
    "    return X, orig_path, orig_id"
   ]
  },
  {
   "cell_type": "code",
   "execution_count": 3,
   "metadata": {
    "collapsed": false
   },
   "outputs": [
    {
     "name": "stdout",
     "output_type": "stream",
     "text": [
      "model: SGD\ttrain_score:\t0.8367520330137153\ttest_score:0.7747572815533981\n",
      "model: SGD\ttrain_score:\t0.9991503823279524\ttest_score:0.8616504854368932\n"
     ]
    }
   ],
   "source": [
    "X, y, orig_path, orig_id = get_X_y_path_id('data/bottleneck/seperated_images_inception_fc')\n",
    "X_train, X_test, y_train, y_test = train_test_split(\n",
    "     X, y, test_size=0.2,\n",
    "    random_state=42,\n",
    ")\n",
    "model = sklearn.linear_model.SGDClassifier( )\n",
    "model.fit(X_train, y_train)\n",
    "\n",
    "\n",
    "train_score = model.score(X_train, y_train)\n",
    "test_score = model.score(X_test, y_test)\n",
    "\n",
    "print('model: SGD\\ttrain_score:\\t{}\\ttest_score:{}'.format(train_score,test_score))\n",
    "\n",
    "model = sklearn.svm.SVC(kernel='linear', C=1)\n",
    "model.fit(X_train, y_train)\n",
    "\n",
    "\n",
    "train_score = model.score(X_train, y_train)\n",
    "test_score = model.score(X_test, y_test)\n",
    "\n",
    "print('model: SVC\\ttrain_score:\\t{}\\ttest_score:{}'.format(train_score,test_score))"
   ]
  },
  {
   "cell_type": "code",
   "execution_count": 6,
   "metadata": {
    "collapsed": false
   },
   "outputs": [
    {
     "name": "stdout",
     "output_type": "stream",
     "text": [
      "model: SGD\ttrain_score:\t0.9543599257884973\ttest_score:0.8635014836795252\n",
      "model: SVC\ttrain_score:\t1.0\ttest_score:0.8798219584569733\n"
     ]
    }
   ],
   "source": [
    "X, y, orig_path, orig_id = get_X_y_path_id('data/bottleneck/joined_images_inception_fc')\n",
    "X_train, X_test, y_train, y_test = train_test_split(\n",
    "     X, y, test_size=0.2,\n",
    "    random_state=42,\n",
    ")\n",
    "model = sklearn.linear_model.SGDClassifier( )\n",
    "model.fit(X_train, y_train)\n",
    "\n",
    "train_score = model.score(X_train, y_train)\n",
    "test_score = model.score(X_test, y_test)\n",
    "print('model: SGD\\ttrain_score:\\t{}\\ttest_score:{}'.format(train_score,test_score))\n",
    "\n",
    "model = sklearn.svm.SVC(kernel='linear', C=1)\n",
    "model.fit(X_train, y_train)\n",
    "\n",
    "train_score = model.score(X_train, y_train)\n",
    "test_score = model.score(X_test, y_test)\n",
    "print('model: SVC\\ttrain_score:\\t{}\\ttest_score:{}'.format(train_score,test_score))"
   ]
  },
  {
   "cell_type": "code",
   "execution_count": 7,
   "metadata": {
    "collapsed": false
   },
   "outputs": [
    {
     "name": "stdout",
     "output_type": "stream",
     "text": [
      "model: SGD\ttrain_score:\t0.8304267161410018\ttest_score:0.7640949554896143\n",
      "model: SVC\ttrain_score:\t0.7769944341372913\ttest_score:0.7329376854599406\n"
     ]
    }
   ],
   "source": [
    "X, y, orig_path, orig_id = get_X_y_path_id('data/bottleneck/joined_images_inception_fc_my_extractor')\n",
    "X_train, X_test, y_train, y_test = train_test_split(\n",
    "     X, y, test_size=0.2,\n",
    "    random_state=42,\n",
    ")\n",
    "model = sklearn.linear_model.SGDClassifier( )\n",
    "model.fit(X_train, y_train)\n",
    "\n",
    "train_score = model.score(X_train, y_train)\n",
    "test_score = model.score(X_test, y_test)\n",
    "print('model: SGD\\ttrain_score:\\t{}\\ttest_score:{}'.format(train_score,test_score))\n",
    "\n",
    "model = sklearn.svm.SVC(kernel='linear', C=1)\n",
    "model.fit(X_train, y_train)\n",
    "\n",
    "train_score = model.score(X_train, y_train)\n",
    "test_score = model.score(X_test, y_test)\n",
    "print('model: SVC\\ttrain_score:\\t{}\\ttest_score:{}'.format(train_score,test_score))"
   ]
  },
  {
   "cell_type": "code",
   "execution_count": 8,
   "metadata": {
    "collapsed": false
   },
   "outputs": [
    {
     "name": "stdout",
     "output_type": "stream",
     "text": [
      "model: SGD\ttrain_score:\t0.9981447124304267\ttest_score:0.7997032640949555\n",
      "model: SVC\ttrain_score:\t1.0\ttest_score:0.8293768545994066\n"
     ]
    }
   ],
   "source": [
    "X, y, orig_path, orig_id = get_X_y_path_id('data/bottleneck/joined_images_vgg16_last_conv')\n",
    "X_train, X_test, y_train, y_test = train_test_split(\n",
    "     X, y, test_size=0.2,\n",
    "    random_state=42,\n",
    ")\n",
    "model = sklearn.linear_model.SGDClassifier( )\n",
    "model.fit(X_train, y_train)\n",
    "\n",
    "train_score = model.score(X_train, y_train)\n",
    "test_score = model.score(X_test, y_test)\n",
    "print('model: SGD\\ttrain_score:\\t{}\\ttest_score:{}'.format(train_score,test_score))\n",
    "\n",
    "model = sklearn.svm.SVC(kernel='linear', C=1)\n",
    "model.fit(X_train, y_train)\n",
    "\n",
    "train_score = model.score(X_train, y_train)\n",
    "test_score = model.score(X_test, y_test)\n",
    "print('model: SVC\\ttrain_score:\\t{}\\ttest_score:{}'.format(train_score,test_score))"
   ]
  },
  {
   "cell_type": "markdown",
   "metadata": {
    "collapsed": false
   },
   "source": [
    "# on our best one keep working"
   ]
  },
  {
   "cell_type": "code",
   "execution_count": 20,
   "metadata": {
    "collapsed": false
   },
   "outputs": [
    {
     "name": "stdout",
     "output_type": "stream",
     "text": [
      "model: SGD\ttrain_score:\t0.9183673469387755\ttest_score:0.8011869436201781\n",
      "model: SVC\ttrain_score:\t1.0\ttest_score:0.8694362017804155\n"
     ]
    }
   ],
   "source": [
    "X, y, orig_path, orig_id = get_X_y_path_id('data/bottleneck/joined_images_inception_fc')\n",
    "X_train, X_test, y_train, y_test = train_test_split(\n",
    "     X, y, test_size=0.2,\n",
    "    random_state=42,\n",
    "    stratify=y,\n",
    ")\n",
    "model = sklearn.linear_model.SGDClassifier( )\n",
    "model.fit(X_train, y_train)\n",
    "\n",
    "train_score = model.score(X_train, y_train)\n",
    "test_score = model.score(X_test, y_test)\n",
    "print('model: SGD\\ttrain_score:\\t{}\\ttest_score:{}'.format(train_score,test_score))\n",
    "\n",
    "model = sklearn.svm.SVC(kernel='linear', C=1)\n",
    "model.fit(X_train, y_train)\n",
    "\n",
    "train_score = model.score(X_train, y_train)\n",
    "test_score = model.score(X_test, y_test)\n",
    "print('model: SVC\\ttrain_score:\\t{}\\ttest_score:{}'.format(train_score,test_score))"
   ]
  },
  {
   "cell_type": "code",
   "execution_count": 26,
   "metadata": {
    "collapsed": false
   },
   "outputs": [
    {
     "name": "stdout",
     "output_type": "stream",
     "text": [
      "[ 0.86303387  0.8637037   0.86962963  0.87481371  0.89387145]\n",
      "0.873010473496\n"
     ]
    }
   ],
   "source": [
    "X, y, orig_path, orig_id = get_X_y_path_id('data/bottleneck/joined_images_inception_fc')\n",
    "model = sklearn.svm.SVC(kernel='linear', C=1)\n",
    "scores = cross_val_score(model, X, y, cv=5)\n",
    "\n",
    "print(scores)\n",
    "print(scores.mean())"
   ]
  },
  {
   "cell_type": "code",
   "execution_count": 28,
   "metadata": {
    "collapsed": false
   },
   "outputs": [
    {
     "name": "stdout",
     "output_type": "stream",
     "text": [
      "[ 0.7820324   0.7762963   0.78962963  0.80327869  0.78624813]\n",
      "0.787497029316\n"
     ]
    }
   ],
   "source": [
    "model = sklearn.ensemble.RandomForestClassifier()\n",
    "scores = cross_val_score(model, X, y, cv=5)\n",
    "\n",
    "print(scores)\n",
    "print(scores.mean())"
   ]
  },
  {
   "cell_type": "code",
   "execution_count": 30,
   "metadata": {
    "collapsed": false
   },
   "outputs": [
    {
     "name": "stdout",
     "output_type": "stream",
     "text": [
      "[ 0.86156112  0.86074074  0.86518519  0.87928465  0.87892377]\n",
      "0.869139092362\n"
     ]
    }
   ],
   "source": [
    "model = xgboost.XGBClassifier()\n",
    "scores = cross_val_score(model, X, y, cv=5)\n",
    "\n",
    "print(scores)\n",
    "print(scores.mean())"
   ]
  },
  {
   "cell_type": "code",
   "execution_count": 33,
   "metadata": {
    "collapsed": false
   },
   "outputs": [
    {
     "name": "stdout",
     "output_type": "stream",
     "text": [
      "[ 0.82621502  0.81925926  0.85333333  0.84500745  0.84005979]\n",
      "0.836774971396\n"
     ]
    }
   ],
   "source": [
    "X_1, y_1, orig_path, orig_id = get_X_y_path_id('data/bottleneck/joined_images_inception_fc')\n",
    "X_2, y_2, orig_path, orig_id = get_X_y_path_id('data/bottleneck/joined_images_vgg16_last_conv')\n",
    "y = y_1\n",
    "X = np.zeros((X_1.shape[0], X_1.shape[1] + X_2.shape[1]))\n",
    "X[:,:X_1.shape[1]] = X_1\n",
    "X[:,X_1.shape[1]:] = X_2\n",
    "\n",
    "model = sklearn.svm.SVC(kernel='linear', C=1)\n",
    "scores = cross_val_score(model, X, y, cv=5)\n",
    "\n",
    "print(scores)\n",
    "print(scores.mean())"
   ]
  },
  {
   "cell_type": "markdown",
   "metadata": {},
   "source": [
    "# Wrong - test leaks to train"
   ]
  },
  {
   "cell_type": "code",
   "execution_count": 34,
   "metadata": {
    "collapsed": false
   },
   "outputs": [
    {
     "name": "stdout",
     "output_type": "stream",
     "text": [
      "[ 0.97741273  0.97669637  0.97634556  0.97771683  0.978738  ]\n",
      "0.977381897701\n"
     ]
    }
   ],
   "source": [
    "X, y, orig_path, orig_id = get_X_y_path_id('data/bottleneck/oversampling_full')\n",
    "model = sklearn.svm.SVC(kernel='linear', C=1)\n",
    "scores = cross_val_score(model, X, y, cv=5)\n",
    "\n",
    "print(scores)\n",
    "print(scores.mean())"
   ]
  },
  {
   "cell_type": "markdown",
   "metadata": {},
   "source": [
    "# inception stratified - cross validation"
   ]
  },
  {
   "cell_type": "code",
   "execution_count": 41,
   "metadata": {
    "collapsed": false
   },
   "outputs": [
    {
     "name": "stdout",
     "output_type": "stream",
     "text": [
      "[ 0.88512518  0.86814815  0.88        0.88971684  0.86846039]\n",
      "0.878290112284\n"
     ]
    }
   ],
   "source": [
    "from sklearn.model_selection import StratifiedKFold\n",
    "skf = StratifiedKFold(\n",
    "    n_splits=5,\n",
    "    shuffle=True,\n",
    ")\n",
    "\n",
    "X, y, orig_path, orig_id = get_X_y_path_id('data/bottleneck/joined_images_inception_fc')\n",
    "model = sklearn.svm.SVC(kernel='linear', C=1)\n",
    "scores = cross_val_score(model, X, y, cv=skf)\n",
    "\n",
    "print(scores)\n",
    "print(scores.mean())\n"
   ]
  },
  {
   "cell_type": "markdown",
   "metadata": {},
   "source": [
    "# inception stratified "
   ]
  },
  {
   "cell_type": "code",
   "execution_count": 9,
   "metadata": {
    "collapsed": false
   },
   "outputs": [
    {
     "name": "stdout",
     "output_type": "stream",
     "text": [
      "model: SVC\ttrain_score:\t1.0\ttest_score:0.8931750741839762\n"
     ]
    }
   ],
   "source": [
    "from sklearn.model_selection import StratifiedShuffleSplit\n",
    "X, y, orig_path, orig_id = get_X_y_path_id('data/bottleneck/joined_images_inception_fc')\n",
    "sss = StratifiedShuffleSplit(\n",
    "    test_size=0.2,\n",
    "    random_state=1337,\n",
    ")\n",
    "\n",
    "train_index, test_index = next(\n",
    "    sss.split(np.zeros_like(y), y)\n",
    ")\n",
    "\n",
    "X_train = X[train_index]\n",
    "y_train = y[train_index]\n",
    "X_test = X[test_index]\n",
    "y_test = y[test_index]\n",
    "\n",
    "model = sklearn.svm.SVC(\n",
    "    kernel='linear',\n",
    ")\n",
    "model.fit(X_train, y_train)\n",
    "\n",
    "train_score = model.score(X_train, y_train)\n",
    "test_score = model.score(X_test, y_test)\n",
    "print('model: SVC\\ttrain_score:\\t{}\\ttest_score:{}'.format(train_score,test_score))\n"
   ]
  },
  {
   "cell_type": "code",
   "execution_count": 5,
   "metadata": {
    "collapsed": false
   },
   "outputs": [
    {
     "name": "stdout",
     "output_type": "stream",
     "text": [
      "model: SVC\ttrain_score:\t1.0\ttest_score:0.8545994065281899\n"
     ]
    }
   ],
   "source": [
    "from sklearn.model_selection import StratifiedShuffleSplit\n",
    "X, y, orig_path, orig_id = get_X_y_path_id('data/bottleneck/my_resnet50/')\n",
    "sss = StratifiedShuffleSplit(\n",
    "    test_size=0.2,\n",
    "    random_state=1337,\n",
    ")\n",
    "\n",
    "train_index, test_index = next(\n",
    "    sss.split(np.zeros_like(y), y)\n",
    ")\n",
    "\n",
    "X_train = X[train_index]\n",
    "y_train = y[train_index]\n",
    "X_test = X[test_index]\n",
    "y_test = y[test_index]\n",
    "\n",
    "model = sklearn.svm.SVC(\n",
    "    kernel='linear',\n",
    ")\n",
    "model.fit(X_train, y_train)\n",
    "\n",
    "train_score = model.score(X_train, y_train)\n",
    "test_score = model.score(X_test, y_test)\n",
    "print('model: SVC\\ttrain_score:\\t{}\\ttest_score:{}'.format(train_score,test_score))\n"
   ]
  },
  {
   "cell_type": "markdown",
   "metadata": {
    "collapsed": true
   },
   "source": [
    "# Inception features + oversampling"
   ]
  },
  {
   "cell_type": "code",
   "execution_count": 21,
   "metadata": {
    "collapsed": false
   },
   "outputs": [
    {
     "name": "stdout",
     "output_type": "stream",
     "text": [
      "model: SVC\ttrain_score:\t1.0\ttest_score:0.9213649851632048\n"
     ]
    }
   ],
   "source": [
    "from sklearn.model_selection import StratifiedShuffleSplit\n",
    "X, y, orig_path, orig_id = get_X_y_path_id('data/bottleneck/joined_images_inception_fc')\n",
    "sss = StratifiedShuffleSplit(\n",
    "    test_size=0.2,\n",
    "    random_state=1337,\n",
    ")\n",
    "\n",
    "train_index, test_index = next(\n",
    "    sss.split(np.zeros_like(y), y)\n",
    ")\n",
    "\n",
    "X_train = X[train_index]\n",
    "y_train = y[train_index]\n",
    "X_test = X[test_index]\n",
    "y_test = y[test_index]\n",
    "\n",
    "#oversample train\n",
    "X_train_more, y_train_more, orig_path, orig_id = get_X_y_path_id('data/bottleneck/join_images_bottleneck_train_oversampling/train')\n",
    "\n",
    "X_train = np.vstack((X_train, X_train_more))\n",
    "y_train = np.hstack((y_train, y_train_more))\n",
    "\n",
    "model = sklearn.svm.SVC(\n",
    "    kernel='linear',\n",
    ")\n",
    "model.fit(X_train, y_train)\n",
    "\n",
    "train_score = model.score(X_train, y_train)\n",
    "test_score = model.score(X_test, y_test)\n",
    "print('model: SVC\\ttrain_score:\\t{}\\ttest_score:{}'.format(train_score,test_score))\n",
    "\n",
    "\n"
   ]
  },
  {
   "cell_type": "code",
   "execution_count": 6,
   "metadata": {
    "collapsed": false
   },
   "outputs": [
    {
     "name": "stdout",
     "output_type": "stream",
     "text": [
      "model: SVC\ttrain_score:\t1.0\ttest_score:0.8694362017804155\n"
     ]
    }
   ],
   "source": [
    "X_train, y_train, _, _ = get_X_y_path_id('data/bottleneck/per_label_stratified/train')\n",
    "X_train_oversampling, y_train_oversampling, _, _ = get_X_y_path_id('data/bottleneck/per_label_stratified/train_oversampling')                                                       \n",
    "X_valid, y_valid, _, _ = get_X_y_path_id('data/bottleneck/per_label_stratified/validation')\n",
    "\n",
    "X_train = np.vstack((X_train, X_train_oversampling))\n",
    "y_train = np.hstack((y_train, y_train_oversampling))\n",
    "\n",
    "model = sklearn.svm.SVC(\n",
    "    kernel='linear',\n",
    ")\n",
    "model.fit(X_train, y_train)\n",
    "\n",
    "train_score = model.score(X_train, y_train)\n",
    "valid_score = model.score(X_valid, y_valid)\n",
    "print('model: SVC\\ttrain_score:\\t{}\\ttest_score:{}'.format(train_score,valid_score))"
   ]
  },
  {
   "cell_type": "markdown",
   "metadata": {},
   "source": [
    "# resnet conv layer"
   ]
  },
  {
   "cell_type": "code",
   "execution_count": 5,
   "metadata": {
    "collapsed": false
   },
   "outputs": [
    {
     "name": "stdout",
     "output_type": "stream",
     "text": [
      "model: SVC\ttrain_score:\t0.8315398886827459\ttest_score:0.5830860534124629\n"
     ]
    }
   ],
   "source": [
    "from sklearn.model_selection import StratifiedShuffleSplit\n",
    "X, y, orig_path, orig_id = get_X_y_path_id('data/bottleneck/per_label_resnet50')\n",
    "sss = StratifiedShuffleSplit(\n",
    "    test_size=0.2,\n",
    "    random_state=1337,\n",
    ")\n",
    "\n",
    "train_index, test_index = next(\n",
    "    sss.split(np.zeros_like(y), y)\n",
    ")\n",
    "\n",
    "X_train = X[train_index]\n",
    "y_train = y[train_index]\n",
    "X_test = X[test_index]\n",
    "y_test = y[test_index]\n",
    "\n",
    "model = sklearn.svm.SVC(\n",
    "    kernel='linear',\n",
    ")\n",
    "model.fit(X_train, y_train)\n",
    "\n",
    "train_score = model.score(X_train, y_train)\n",
    "test_score = model.score(X_test, y_test)\n",
    "print('model: SVC\\ttrain_score:\\t{}\\ttest_score:{}'.format(train_score,test_score))"
   ]
  },
  {
   "cell_type": "markdown",
   "metadata": {
    "collapsed": true
   },
   "source": [
    "# rebuild best model"
   ]
  },
  {
   "cell_type": "code",
   "execution_count": null,
   "metadata": {
    "collapsed": false
   },
   "outputs": [],
   "source": [
    "from sklearn.model_selection import StratifiedShuffleSplit\n",
    "X, y, _, _ = get_X_y_path_id('data/bottleneck/joined_images_inception_fc')\n",
    "sss = StratifiedShuffleSplit(\n",
    "    test_size=0.2,\n",
    "    random_state=1337,\n",
    ")\n",
    "\n",
    "train_index, validation_index = next(\n",
    "    sss.split(np.zeros_like(y), y)\n",
    ")\n",
    "X_train = X[train_index]\n",
    "y_train = y[train_index]\n",
    "\n",
    "X_validation = X[validation_index]\n",
    "y_validation = y[validation_index]\n",
    "\n",
    "model = sklearn.svm.SVC(\n",
    "    kernel='linear',\n",
    ")\n",
    "model.fit(X_train, y_train)\n",
    "\n",
    "train_score = model.score(X_train, y_train)\n",
    "validation_score = model.score(X_validation, y_validation)\n",
    "\n",
    "print('model: SVC\\ttrain_score:\\t{}\\ttest_score:{}'.format(train_score,validation_score))"
   ]
  },
  {
   "cell_type": "code",
   "execution_count": null,
   "metadata": {
    "collapsed": true
   },
   "outputs": [],
   "source": [
    "# predict unlabeld test"
   ]
  },
  {
   "cell_type": "code",
   "execution_count": 21,
   "metadata": {
    "collapsed": false
   },
   "outputs": [],
   "source": [
    "X_test, test_files_path, test_samples_id = get_X_path_id('data/bottleneck/unlabled_test_joined')\n",
    "\n",
    "predictions = model.predict(X_test)\n",
    "\n",
    "with open('prediction.csv', 'w') as out_file:\n",
    "    out_file.write('ad_id,image_path,cat_id\\n')\n",
    "    for prediction, test_sample_id in zip(predictions, test_samples_id):\n",
    "        line = '{},none,{}\\n'.format(test_sample_id, prediction)\n",
    "        out_file.write(line)"
   ]
  }
 ],
 "metadata": {
  "kernelspec": {
   "display_name": "Python 3",
   "language": "python",
   "name": "python3"
  },
  "language_info": {
   "codemirror_mode": {
    "name": "ipython",
    "version": 3
   },
   "file_extension": ".py",
   "mimetype": "text/x-python",
   "name": "python",
   "nbconvert_exporter": "python",
   "pygments_lexer": "ipython3",
   "version": "3.5.2"
  }
 },
 "nbformat": 4,
 "nbformat_minor": 2
}
